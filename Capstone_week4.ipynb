{
 "cells": [
  {
   "cell_type": "markdown",
   "metadata": {},
   "source": [
    "### Coursera Applied Data Science Capstone Final Project \n",
    "## Business Location Analysis for opening a new Fitness Center.\n",
    "\n",
    "#### Business Problem:\n",
    "\n",
    "In this project, I am going to find a optimal-fit location to open a new fitness center in the city of Toronto, ON. \n",
    "\n",
    "There are number of factors to be considered when a business is first started and choosing the business location is one of the most important factors. Without a good location to interact with customers whether they are end users or re-sellers, a business will have hard time to thrive and succeed. \n",
    "\n",
    "When looking for a fit-location for a business, there are certain factors to be considered depending on business needs. If it serves end users demographies,amenities like water,power,transportation are few things to be considered. Depending on the target customer group, social and ethnic diversity, closeness to Industrial hubs, distribution and free trade zones has to considered. Apart from above, one of the major factor to be pondered is the safety of the location as it is hard to attract customers if the crime rate is high near the business. However, Toronto is ranked the 4th safest city and the first in North-America. As we are looking for a business location in the city of Toronto, we can keep this factor aside. \n",
    "\n",
    "In major cities like Toronto, Fitness Centers have a high demand and new centers are establishing every now and then to keep up with this demand. Nevertheless, Fitness Centers are very popular these days as a lot of people regardless of their age trying to maintain their health. Needless to say that, a lot of companies encourage their employers to stay active by giving health benefits to those who reach daily fitness goals. Therefore, a new Fitness Center in Toronto will be a profit making business if it established properly in a good location which has convenient access to customers.\n",
    "\n",
    "Here in this project, I am taking some of the above discussed factors in to consideration and analyzing data that I downloaded from various sources to find a good-fit location to open a new fitness center in Toronto city. \n",
    "\n",
    "### Data:\n",
    "\n",
    "Data containing Toronto neighborhoods, latitudes, longitudes population and income used in this project were downloaded from Toronto open data Portal, opendata@toronto.ca.\n",
    "\n",
    "#### 1. Toronto neighborhoods, neighborhood number latitude and longitude \n",
    "**Neighbourhoods.geojson.json** : Data consists of Toronto neighborhoods, neighborhood number latitude and longitude were obtained from Toronto Open Data Portal. https://open.toronto.ca/dataset/neighbourhoods/\n",
    "\n",
    "#### 2. Population and average income of Toronto neighborhoods\n",
    "**neighbourhood-profiles-2016-csv.csv** : Data consists of Toronto neighborhood, population and and average income etc were downloaded form Toronto Open Data Portal. https://open.toronto.ca/dataset/neighbourhood-profiles/\n",
    "\n",
    "Any business would thrive in highly populated area or closer area to highly populated areas. Population data is used to filter out such areas.\n",
    "\n",
    "Fitness center will be used by people who can afford extra payment monthly apart from their basic needs. so it need to be built in or close to a neighborhood where wealthy people live. It is good to keep in mind that super wealthy people would probably not come to a fitness center as they have their own gyms. Average total income in each cities is used to determine areas with middle income families.\n",
    "\n",
    "#### 3. Business improvement areas \n",
    "**Business Improvement Areas Data.geojson.json**: Data consists of areas that have been improved by commercial business owners and tenants in partnership with city to keep them thriving, competitive, and safe in order to attract shoppers, diners, tourists, and new businesses were also downloaded form Toronto Open Data Portal. https://open.toronto.ca/dataset/business-improvement-areas/\n",
    "\n",
    "Eliminating Business Improvement Areas would also benefit the new center as these areas going to be full of dinners, shoppers and tourists. These kind of businesses will deviate fitness center customers from their healthy goals.\n",
    "\n",
    "#### 4. Location data for each neighborhood\n",
    "**Foursquare API** was used to get location data for 100 places within a radius of 500 from each neighborhood for clustering and segmentation of neighborhoods.\n",
    "\n",
    "Fitness Center also need to be located in an easily accessible place but with out so much traffic. The business traffic around the area is examined using the data extracted from Foursquare API. \n",
    "\n"
   ]
  },
  {
   "cell_type": "code",
   "execution_count": null,
   "metadata": {},
   "outputs": [],
   "source": []
  }
 ],
 "metadata": {
  "kernelspec": {
   "display_name": "Python",
   "language": "python",
   "name": "conda-env-python-py"
  },
  "language_info": {
   "codemirror_mode": {
    "name": "ipython",
    "version": 3
   },
   "file_extension": ".py",
   "mimetype": "text/x-python",
   "name": "python",
   "nbconvert_exporter": "python",
   "pygments_lexer": "ipython3",
   "version": "3.6.7"
  }
 },
 "nbformat": 4,
 "nbformat_minor": 4
}
